{
 "cells": [
  {
   "cell_type": "code",
   "execution_count": 2,
   "id": "27ec643e",
   "metadata": {},
   "outputs": [
    {
     "name": "stdout",
     "output_type": "stream",
     "text": [
      "[1, 4, 3, 16, 5, 36, 7, 64, 9, 100, 11]\n"
     ]
    }
   ],
   "source": [
    "# Initialize the list\n",
    "numbers = [1, 2, 3, 4, 5, 6, 7, 8, 9, 10, 11]\n",
    "\n",
    "# Initialize an index variable\n",
    "index = 0\n",
    "\n",
    "#While loop to iterate through the list\n",
    "while index < len(numbers):\n",
    "    # Check if the current number is divisible by 2\n",
    "    if numbers[index] % 2 == 0:\n",
    "        # Square the number divisible by 2 and update it in the list\n",
    "        numbers[index] = numbers[index] ** 2\n",
    "    # Move to the next number in the list\n",
    "    index += 1\n",
    "\n",
    "# Output the modified list\n",
    "print(numbers)"
   ]
  },
  {
   "cell_type": "code",
   "execution_count": null,
   "id": "89a7e8e3",
   "metadata": {},
   "outputs": [],
   "source": []
  }
 ],
 "metadata": {
  "kernelspec": {
   "display_name": "Python 3 (ipykernel)",
   "language": "python",
   "name": "python3"
  },
  "language_info": {
   "codemirror_mode": {
    "name": "ipython",
    "version": 3
   },
   "file_extension": ".py",
   "mimetype": "text/x-python",
   "name": "python",
   "nbconvert_exporter": "python",
   "pygments_lexer": "ipython3",
   "version": "3.9.13"
  }
 },
 "nbformat": 4,
 "nbformat_minor": 5
}
